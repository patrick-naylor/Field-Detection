{
 "cells": [
  {
   "cell_type": "code",
   "execution_count": 1,
   "metadata": {},
   "outputs": [
    {
     "name": "stderr",
     "output_type": "stream",
     "text": [
      "/Users/patricknaylor/miniconda3/envs/field_detect/lib/python3.10/site-packages/torchvision/io/image.py:13: UserWarning: Failed to load image Python extension: dlopen(/Users/patricknaylor/miniconda3/envs/field_detect/lib/python3.10/site-packages/torchvision/image.so, 0x0006): Symbol not found: __ZN2at4_ops19empty_memory_format4callEN3c108ArrayRefIxEENS2_8optionalINS2_10ScalarTypeEEENS5_INS2_6LayoutEEENS5_INS2_6DeviceEEENS5_IbEENS5_INS2_12MemoryFormatEEE\n",
      "  Referenced from: <F0D48035-EF9E-3141-9F63-566920E60D7C> /Users/patricknaylor/miniconda3/envs/field_detect/lib/python3.10/site-packages/torchvision/image.so\n",
      "  Expected in:     <B8EF5F9B-D0C8-3F96-967D-FE1E5F7F9E51> /Users/patricknaylor/miniconda3/envs/field_detect/lib/python3.10/site-packages/torch/lib/libtorch_cpu.dylib\n",
      "  warn(f\"Failed to load image Python extension: {e}\")\n"
     ]
    }
   ],
   "source": [
    "import torch\n",
    "import torchvision\n",
    "import torchvision.transforms as transforms\n",
    "import glob\n",
    "import numpy as np\n",
    "import cv2\n",
    "import matplotlib.pyplot as plt\n",
    "from torch.utils.data import DataLoader, Dataset\n",
    "from torchvision.utils import make_grid\n",
    "import torch.optim as optim\n",
    "import torch.nn as nn\n",
    "import torch.nn.functional as F\n",
    "image_path = '/Users/patricknaylor/Desktop/Field_Detection/Images/Masked/'\n",
    "torch.__version__\n",
    "device = torch.device('mps')\n",
    "\n"
   ]
  },
  {
   "cell_type": "code",
   "execution_count": 2,
   "metadata": {},
   "outputs": [],
   "source": [
    "\n",
    "images_paths = glob.glob(image_path + '*.jpg')\n",
    "mask_paths = glob.glob(image_path + '*.npy')\n",
    "scale_percent = 10\n",
    "\n",
    "images = []\n",
    "masks = []\n",
    "for (img, msk) in zip(images_paths, mask_paths):\n",
    "    image = cv2.cvtColor(cv2.imread(img), cv2.COLOR_BGR2RGB)\n",
    "    width = int(image.shape[1] * scale_percent / 100)\n",
    "    height = int(image.shape[0] * scale_percent / 100)\n",
    "    images.append(cv2.resize(image, (width, height), interpolation = cv2.INTER_AREA))\n",
    "    mask = np.load(msk).T\n",
    "    mask = np.expand_dims(mask[25: -25, 25: -25], axis=2)\n",
    "    mask = np.resize(mask, (36, 64, 1))\n",
    "    masks.append(mask)\n"
   ]
  },
  {
   "cell_type": "code",
   "execution_count": 3,
   "metadata": {},
   "outputs": [],
   "source": [
    "images_arr = np.stack(images)\n",
    "masks_arr = np.stack(masks)\n"
   ]
  },
  {
   "cell_type": "code",
   "execution_count": 4,
   "metadata": {},
   "outputs": [],
   "source": [
    "images_arr = images_arr.astype(np.uint8)\n",
    "masks_arr = masks_arr.astype(np.uint8)"
   ]
  },
  {
   "cell_type": "code",
   "execution_count": 5,
   "metadata": {},
   "outputs": [],
   "source": [
    "class imageDataset(Dataset):\n",
    "    def __init__(self, X, y):\n",
    "        self.X = X\n",
    "        self.y = y\n",
    "\n",
    "    def __len__(self):\n",
    "        return len(self.X)\n",
    "\n",
    "    def __getitem__(self, index):\n",
    "        image = self.X[index]\n",
    "        mask = self.y[index]\n",
    "        y = torch.tensor(mask)\n",
    "        X = self.transform(image)\n",
    "        return [X, y]\n",
    "\n",
    "    transform = transforms.Compose([\n",
    "    transforms.ToPILImage(),\n",
    "    transforms.ToTensor()])\n",
    "\n",
    "    \n",
    "\n",
    "\n",
    "    "
   ]
  },
  {
   "cell_type": "code",
   "execution_count": 6,
   "metadata": {},
   "outputs": [
    {
     "name": "stdout",
     "output_type": "stream",
     "text": [
      "(2753, 36, 64, 1)\n"
     ]
    }
   ],
   "source": [
    "print(np.shape(masks_arr))"
   ]
  },
  {
   "cell_type": "code",
   "execution_count": 7,
   "metadata": {},
   "outputs": [],
   "source": [
    "batch_size = 8\n",
    "transformed_dataset = imageDataset(X=images_arr, y=masks_arr)\n",
    "train_set, val_set = torch.utils.data.random_split(transformed_dataset, [2000, 753])\n",
    "train_dl = DataLoader(train_set, batch_size, shuffle=True)\n",
    "val_dl = DataLoader(val_set, batch_size, shuffle=True)\n"
   ]
  },
  {
   "cell_type": "code",
   "execution_count": null,
   "metadata": {},
   "outputs": [],
   "source": []
  },
  {
   "cell_type": "code",
   "execution_count": 8,
   "metadata": {},
   "outputs": [],
   "source": [
    "class Model(nn.Module):\n",
    "    def __init__(self):\n",
    "        super(Model, self).__init__()\n",
    "        self.conv1 = nn.Conv2d(3, 6, 5, padding='same')\n",
    "        self.pool = nn.MaxPool2d(2, 2)\n",
    "        self.fc1 = nn.Linear(int(6*72*128*.25), int(2*72*128*.25))\n",
    "        self.fc2 = nn.Linear(int(2*72*128*.25), int(72*128*.25))\n",
    "    \n",
    "    def forward(self, x):\n",
    "        x = self.pool(F.relu(self.conv1(x)))\n",
    "        x = torch.flatten(x, 1)\n",
    "        x = F.relu(self.fc1(x))\n",
    "        x = self.fc2(x)\n",
    "        return x\n"
   ]
  },
  {
   "cell_type": "code",
   "execution_count": 9,
   "metadata": {},
   "outputs": [],
   "source": [
    "def cross_entropy(output, target):\n",
    "    target = torch.flatten(target, 1)\n",
    "    loss = -np.sum(target*np.log(output))\n",
    "    return loss/float(output.shape[0])\n",
    "\n",
    "model = Model().to(device)\n",
    "criterion = nn.BCEWithLogitsLoss()\n",
    "optimizer = optim.SGD(model.parameters(), lr=0.001, momentum=0.9)"
   ]
  },
  {
   "cell_type": "code",
   "execution_count": 10,
   "metadata": {},
   "outputs": [
    {
     "name": "stdout",
     "output_type": "stream",
     "text": [
      "Epoch [1/5], Step [20/250], Loss: 0.6918\n",
      "Epoch [1/5], Step [40/250], Loss: 0.6874\n",
      "Epoch [1/5], Step [60/250], Loss: 0.6830\n",
      "Epoch [1/5], Step [80/250], Loss: 0.6769\n",
      "Epoch [1/5], Step [100/250], Loss: 0.6703\n",
      "Epoch [1/5], Step [120/250], Loss: 0.6624\n",
      "Epoch [1/5], Step [140/250], Loss: 0.6505\n",
      "Epoch [1/5], Step [160/250], Loss: 0.6337\n",
      "Epoch [1/5], Step [180/250], Loss: 0.6154\n",
      "Epoch [1/5], Step [200/250], Loss: 0.5835\n",
      "Epoch [1/5], Step [220/250], Loss: 0.5524\n",
      "Epoch [1/5], Step [240/250], Loss: 0.5090\n",
      "Epoch [2/5], Step [20/250], Loss: 0.3856\n",
      "Epoch [2/5], Step [40/250], Loss: 0.3048\n",
      "Epoch [2/5], Step [60/250], Loss: 0.2077\n",
      "Epoch [2/5], Step [80/250], Loss: 0.1519\n",
      "Epoch [2/5], Step [100/250], Loss: 0.1035\n",
      "Epoch [2/5], Step [120/250], Loss: 0.0770\n",
      "Epoch [2/5], Step [140/250], Loss: 0.0606\n",
      "Epoch [2/5], Step [160/250], Loss: 0.0389\n",
      "Epoch [2/5], Step [180/250], Loss: 0.0297\n",
      "Epoch [2/5], Step [200/250], Loss: 0.0214\n",
      "Epoch [2/5], Step [220/250], Loss: 0.0244\n",
      "Epoch [2/5], Step [240/250], Loss: 0.0154\n",
      "Epoch [3/5], Step [20/250], Loss: 0.0168\n",
      "Epoch [3/5], Step [40/250], Loss: 0.0150\n",
      "Epoch [3/5], Step [60/250], Loss: 0.0142\n",
      "Epoch [3/5], Step [80/250], Loss: 0.0134\n",
      "Epoch [3/5], Step [100/250], Loss: 0.0093\n",
      "Epoch [3/5], Step [120/250], Loss: 0.0111\n",
      "Epoch [3/5], Step [140/250], Loss: 0.0082\n",
      "Epoch [3/5], Step [160/250], Loss: 0.0082\n",
      "Epoch [3/5], Step [180/250], Loss: 0.0087\n",
      "Epoch [3/5], Step [200/250], Loss: 0.0084\n",
      "Epoch [3/5], Step [220/250], Loss: 0.0071\n",
      "Epoch [3/5], Step [240/250], Loss: 0.2527\n",
      "Epoch [4/5], Step [20/250], Loss: 0.0064\n",
      "Epoch [4/5], Step [40/250], Loss: 0.0047\n",
      "Epoch [4/5], Step [60/250], Loss: 0.0053\n",
      "Epoch [4/5], Step [80/250], Loss: 0.0052\n",
      "Epoch [4/5], Step [100/250], Loss: 0.0052\n",
      "Epoch [4/5], Step [120/250], Loss: 0.0078\n",
      "Epoch [4/5], Step [140/250], Loss: 0.0069\n",
      "Epoch [4/5], Step [160/250], Loss: 0.0093\n",
      "Epoch [4/5], Step [180/250], Loss: 0.0049\n",
      "Epoch [4/5], Step [200/250], Loss: 0.0068\n",
      "Epoch [4/5], Step [220/250], Loss: 0.1157\n",
      "Epoch [4/5], Step [240/250], Loss: 0.0040\n",
      "Epoch [5/5], Step [20/250], Loss: 0.0045\n",
      "Epoch [5/5], Step [40/250], Loss: 0.0563\n",
      "Epoch [5/5], Step [60/250], Loss: 0.0043\n",
      "Epoch [5/5], Step [80/250], Loss: 0.0038\n",
      "Epoch [5/5], Step [100/250], Loss: 0.0046\n",
      "Epoch [5/5], Step [120/250], Loss: 0.0033\n",
      "Epoch [5/5], Step [140/250], Loss: 0.0055\n",
      "Epoch [5/5], Step [160/250], Loss: 0.0036\n",
      "Epoch [5/5], Step [180/250], Loss: 0.0657\n",
      "Epoch [5/5], Step [200/250], Loss: 0.2056\n",
      "Epoch [5/5], Step [220/250], Loss: 0.2232\n",
      "Epoch [5/5], Step [240/250], Loss: 0.1179\n"
     ]
    }
   ],
   "source": [
    "num_epochs = 5\n",
    "n_total_steps = len(train_dl)\n",
    "for epoch in range(num_epochs):\n",
    "    running_loss = 0.0\n",
    "    sum = 0\n",
    "    for i, (input, target) in enumerate(train_dl):\n",
    "        input = input.to(device)\n",
    "        target = torch.flatten(target, 1).to(device)\n",
    "\n",
    "        optimizer.zero_grad()\n",
    "\n",
    "        outputs = model(input)\n",
    "        loss = criterion(outputs, target.float())\n",
    "\n",
    "        optimizer.zero_grad()\n",
    "        loss.backward()\n",
    "        optimizer.step()\n",
    "\n",
    "        running_loss += loss.item()\n",
    "        sum += 1\n",
    "\n",
    "        if (i+1) % 20 == 0:\n",
    "            print (f'Epoch [{epoch+1}/{num_epochs}], Step [{i+1}/{n_total_steps}], Loss: {loss.item():.4f}')\n",
    "\n"
   ]
  },
  {
   "cell_type": "code",
   "execution_count": null,
   "metadata": {},
   "outputs": [],
   "source": []
  }
 ],
 "metadata": {
  "kernelspec": {
   "display_name": "Python 3 (ipykernel)",
   "language": "python",
   "name": "python3"
  },
  "language_info": {
   "codemirror_mode": {
    "name": "ipython",
    "version": 3
   },
   "file_extension": ".py",
   "mimetype": "text/x-python",
   "name": "python",
   "nbconvert_exporter": "python",
   "pygments_lexer": "ipython3",
   "version": "3.10.8"
  },
  "vscode": {
   "interpreter": {
    "hash": "a52c6a864e3399e11fea0a5eb33cc6d93f8610622dd547f9c8816dcacd7da79c"
   }
  }
 },
 "nbformat": 4,
 "nbformat_minor": 2
}
