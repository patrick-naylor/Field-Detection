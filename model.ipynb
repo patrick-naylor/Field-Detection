{
 "cells": [
  {
   "cell_type": "code",
   "execution_count": 8,
   "metadata": {},
   "outputs": [],
   "source": [
    "import torch\n",
    "import torchvision.transforms as transforms\n",
    "import glob\n",
    "import numpy as np\n",
    "import cv2\n",
    "import matplotlib.pyplot as plt\n",
    "from torch.utils.data import DataLoader, Dataset\n",
    "from torchvision.utils import make_grid\n",
    "import torch.optim as optim\n",
    "import torch.nn as nn\n",
    "import torch.nn.functional as F\n",
    "from scipy import interpolate\n",
    "import random\n",
    "image_path = '/Users/patricknaylor/Desktop/Field_Detection/Images/Masked/'\n",
    "model_path = '/Users/patricknaylor/Desktop/Field_Detection/data/Models/'\n",
    "torch.__version__\n",
    "device = torch.device('mps')\n",
    "\n"
   ]
  },
  {
   "cell_type": "markdown",
   "metadata": {},
   "source": [
    "Format Data data to match inputs of model\n",
    "\n",
    "Mask files need to be transposed to match image shapes"
   ]
  },
  {
   "cell_type": "code",
   "execution_count": 9,
   "metadata": {},
   "outputs": [],
   "source": [
    "\n",
    "images_paths = list(glob.glob(image_path + '*.jpg'))\n",
    "scale_percent = 10\n",
    "\n",
    "images = []\n",
    "masks = []\n",
    "for (img) in (images_paths):\n",
    "    #Load and shrink images\n",
    "    msk = f'{image_path}{img[59:-4]}.npy'\n",
    "    image = cv2.cvtColor(cv2.imread(img), cv2.COLOR_BGR2RGB)\n",
    "    width = int(image.shape[1] * scale_percent / 100)\n",
    "    height = int(image.shape[0] * scale_percent / 100)\n",
    "    images.append(cv2.resize(image, (width, height), interpolation = cv2.INTER_AREA))\n",
    "\n",
    "    #Load and interpolate shrink masks\n",
    "    mask = np.load(msk).T\n",
    "    mask = mask[25: -25, 25: -25]\n",
    "    x = np.linspace(0, 1, mask.shape[0])\n",
    "    y = np.linspace(0, 1, mask.shape[1])\n",
    "    f = interpolate.interp2d(y, x, mask, kind='linear')\n",
    "\n",
    "    x2 = np.linspace(0, 1, 36)\n",
    "    y2 = np.linspace(0, 1, 64)\n",
    "\n",
    "    mask = f(y2, x2)\n",
    "    mask = np.expand_dims(mask, axis=2)\n",
    "    \n",
    "    masks.append(mask)\n",
    "\n",
    "print(f'Image size: {image.shape}\\nMask size: {mask.shape}')\n"
   ]
  },
  {
   "cell_type": "code",
   "execution_count": 11,
   "metadata": {},
   "outputs": [],
   "source": [
    "images_arr = np.stack(images)\n",
    "masks_arr = np.stack(masks)\n",
    "images_arr = images_arr.astype(np.uint8)\n",
    "masks_arr[masks_arr > 0] = 1\n",
    "masks_arr[masks_arr <= 0] = 0\n",
    "masks_arr = masks_arr.astype(np.uint8)"
   ]
  },
  {
   "cell_type": "markdown",
   "metadata": {},
   "source": [
    "Randomly reflect images along the x and y axis.\n",
    "\n",
    "Most images are oriented with masked are near the top of the image which creates bias."
   ]
  },
  {
   "cell_type": "code",
   "execution_count": 14,
   "metadata": {},
   "outputs": [],
   "source": [
    "for i in range(np.shape(images_arr)[0]):\n",
    "    rand1 = random.randint(1, 2)\n",
    "    rand2 = random.randint(1, 2)\n",
    "    temp_arr_im = images_arr[i, :, :, :]\n",
    "    temp_arr_msk = masks_arr[i, :, :, :]\n",
    "    if rand1 == 2:\n",
    "        temp_arr_im = np.flip(temp_arr_im, 0)\n",
    "        temp_arr_msk = np.flip(temp_arr_msk, 0)\n",
    "    if rand2 == 2:\n",
    "        temp_arr_im = np.flip(temp_arr_im, 1)\n",
    "        temp_arr_msk = np.flip(temp_arr_msk, 1)\n",
    "    images_arr[i, :, :, :] = temp_arr_im\n",
    "    masks_arr[i, :, :, :] = temp_arr_msk\n"
   ]
  },
  {
   "cell_type": "markdown",
   "metadata": {},
   "source": [
    "Create image dataset and transform images into PyTorch format"
   ]
  },
  {
   "cell_type": "code",
   "execution_count": 15,
   "metadata": {},
   "outputs": [],
   "source": [
    "class imageDataset(Dataset):\n",
    "    def __init__(self, X, y):\n",
    "        self.X = X\n",
    "        self.y = y\n",
    "\n",
    "    def __len__(self):\n",
    "        return len(self.X)\n",
    "\n",
    "    def __getitem__(self, index):\n",
    "        image = self.X[index]\n",
    "        mask = self.y[index]\n",
    "        y = torch.tensor(mask)\n",
    "        X = self.transform(image)\n",
    "        return [X, y]\n",
    "\n",
    "    transform = transforms.Compose([\n",
    "    transforms.ToPILImage(),\n",
    "    transforms.ToTensor()])"
   ]
  },
  {
   "cell_type": "markdown",
   "metadata": {},
   "source": [
    "Generate dataloaders for training data and two validation sets\n",
    "\n",
    "Using 1/6 of data for validation"
   ]
  },
  {
   "cell_type": "code",
   "execution_count": 17,
   "metadata": {},
   "outputs": [
    {
     "name": "stdout",
     "output_type": "stream",
     "text": [
      "Number of training images: 2715 \n",
      "Number of validation images: 543\n"
     ]
    }
   ],
   "source": [
    "batch_size = 200\n",
    "transformed_dataset = imageDataset(X=images_arr, y=masks_arr)\n",
    "val_size = np.shape(masks_arr)[0]//6\n",
    "train_size = np.shape(masks_arr)[0] - val_size\n",
    "train_set, val_set = torch.utils.data.random_split(transformed_dataset, [train_size, val_size])\n",
    "train_dl = DataLoader(train_set, batch_size, shuffle=True)\n",
    "val1_dl = DataLoader(val_set, 1, shuffle=True)\n",
    "val2_dl = DataLoader(val_set, val_size, shuffle=True)\n",
    "print(f'Number of training images: {train_size} \\nNumber of validation images: {val_size}')\n",
    "\n"
   ]
  },
  {
   "cell_type": "markdown",
   "metadata": {},
   "source": [
    "### Model class\n",
    "\n",
    "Two convolutional layers with one pooling layer.\n",
    "\n",
    "Three fully connected linear layers\n",
    "\n",
    "relu used for activation \n"
   ]
  },
  {
   "cell_type": "code",
   "execution_count": 18,
   "metadata": {},
   "outputs": [],
   "source": [
    "class Model(nn.Module):\n",
    "    def __init__(self):\n",
    "        super(Model, self).__init__()\n",
    "        self.conv1 = nn.Conv2d(3, 6, 5, padding='same')\n",
    "        self.pool = nn.MaxPool2d(2, 2)\n",
    "        self.conv2 = nn.Conv2d(6, 12, 5, padding='same')\n",
    "        self.fc1 = nn.Linear(int(12*72*128*.25), int(4*72*128*.25))\n",
    "        self.fc2 = nn.Linear(int(4*72*128*.25), int(2*72*128*.25))       \n",
    "        self.fc3 = nn.Linear(int(2*72*128*.25), int(1*72*128*.25))\n",
    "    \n",
    "    def forward(self, x):\n",
    "        x = self.pool(F.relu(self.conv1(x)))\n",
    "        x = F.relu(self.conv2(x))\n",
    "        x = torch.flatten(x, 1)\n",
    "        x = F.relu(self.fc1(x))\n",
    "        x = F.relu(self.fc2(x))\n",
    "        x = self.fc3(x)\n",
    "        return x\n"
   ]
  },
  {
   "cell_type": "markdown",
   "metadata": {},
   "source": [
    "Using Binary Cross Entropy with Logits Loss for loss as it supports multi-label classification\n",
    "\n",
    "Using Stochastic gradient descent"
   ]
  },
  {
   "cell_type": "code",
   "execution_count": 19,
   "metadata": {},
   "outputs": [],
   "source": [
    "model = Model().to(device)\n",
    "criterion = nn.BCEWithLogitsLoss()\n",
    "optimizer = optim.SGD(model.parameters(), lr=0.01, momentum = .9)"
   ]
  },
  {
   "cell_type": "code",
   "execution_count": 20,
   "metadata": {},
   "outputs": [
    {
     "name": "stdout",
     "output_type": "stream",
     "text": [
      "Epoch [1/500], Loss: 0.6932\n",
      "Epoch [11/500], Loss: 0.6909\n",
      "Epoch [21/500], Loss: 0.5660\n",
      "Epoch [31/500], Loss: 0.5770\n",
      "Epoch [41/500], Loss: 0.2979\n",
      "Epoch [51/500], Loss: 0.2292\n",
      "Epoch [61/500], Loss: 0.2509\n",
      "Epoch [71/500], Loss: 0.2196\n",
      "Epoch [81/500], Loss: 0.1920\n",
      "Epoch [91/500], Loss: 0.1721\n",
      "Epoch [101/500], Loss: 0.1590\n",
      "Epoch [111/500], Loss: 0.1399\n",
      "Epoch [121/500], Loss: 0.1466\n",
      "Epoch [131/500], Loss: 0.1247\n",
      "Epoch [141/500], Loss: 0.1313\n",
      "Epoch [151/500], Loss: 0.1320\n",
      "Epoch [161/500], Loss: 0.1306\n",
      "Epoch [171/500], Loss: 0.1270\n",
      "Epoch [181/500], Loss: 0.1118\n",
      "Epoch [191/500], Loss: 0.1068\n",
      "Epoch [201/500], Loss: 0.1039\n",
      "Epoch [211/500], Loss: 0.1050\n",
      "Epoch [221/500], Loss: 0.0944\n",
      "Epoch [231/500], Loss: 0.1008\n",
      "Epoch [241/500], Loss: 0.1050\n",
      "Epoch [251/500], Loss: 0.0925\n",
      "Epoch [261/500], Loss: 0.0959\n",
      "Epoch [271/500], Loss: 0.1000\n",
      "Epoch [281/500], Loss: 0.0948\n",
      "Epoch [291/500], Loss: 0.0691\n",
      "Epoch [301/500], Loss: 0.0864\n",
      "Epoch [311/500], Loss: 0.0863\n",
      "Epoch [321/500], Loss: 0.0758\n",
      "Epoch [331/500], Loss: 0.0822\n",
      "Epoch [341/500], Loss: 0.0815\n",
      "Epoch [351/500], Loss: 0.0750\n",
      "Epoch [361/500], Loss: 0.0756\n",
      "Epoch [371/500], Loss: 0.0752\n",
      "Epoch [381/500], Loss: 0.0765\n",
      "Epoch [391/500], Loss: 0.0641\n",
      "Epoch [401/500], Loss: 0.0696\n",
      "Epoch [411/500], Loss: 0.0676\n",
      "Epoch [421/500], Loss: 0.0658\n",
      "Epoch [431/500], Loss: 0.0630\n",
      "Epoch [441/500], Loss: 0.0672\n"
     ]
    }
   ],
   "source": [
    "num_epochs = 500\n",
    "n_total_steps = len(train_dl)\n",
    "for epoch in range(num_epochs):\n",
    "    running_loss = 0.0\n",
    "    sum = 0\n",
    "    for i, (input, target) in enumerate(train_dl):\n",
    "        input = input.to(device)\n",
    "        target = torch.flatten(target, 1).to(device)\n",
    "\n",
    "        optimizer.zero_grad()\n",
    "\n",
    "        outputs = model(input)\n",
    "        loss = criterion(outputs, target.float())\n",
    "\n",
    "        optimizer.zero_grad()\n",
    "        loss.backward()\n",
    "        optimizer.step()\n",
    "\n",
    "        running_loss += loss.item()\n",
    "        sum += 1\n",
    "    if epoch%10 == 0:\n",
    "        print (f'Epoch [{epoch+1}/{num_epochs}], Loss: {loss.item():.4f}')\n",
    "\n"
   ]
  },
  {
   "cell_type": "code",
   "execution_count": null,
   "metadata": {},
   "outputs": [
    {
     "name": "stdout",
     "output_type": "stream",
     "text": [
      "0.10999426245689392\n",
      "0.08652867376804352\n"
     ]
    }
   ],
   "source": [
    "with torch.no_grad():\n",
    "    for (images, labels) in val2_dl:\n",
    "        images = images.to(device)\n",
    "        labels = labels.to(device)\n",
    "        output = model(images)\n",
    "        loss = criterion(output, torch.flatten(labels,1, 3).float())\n",
    "        print(loss.item())"
   ]
  },
  {
   "cell_type": "code",
   "execution_count": null,
   "metadata": {},
   "outputs": [
    {
     "ename": "NameError",
     "evalue": "name 'val1_dl' is not defined",
     "output_type": "error",
     "traceback": [
      "\u001b[0;31m---------------------------------------------------------------------------\u001b[0m",
      "\u001b[0;31mNameError\u001b[0m                                 Traceback (most recent call last)",
      "Cell \u001b[0;32mIn [7], line 2\u001b[0m\n\u001b[1;32m      1\u001b[0m \u001b[39mwith\u001b[39;00m torch\u001b[39m.\u001b[39mno_grad():\n\u001b[0;32m----> 2\u001b[0m     \u001b[39mfor\u001b[39;00m idx, (images, labels) \u001b[39min\u001b[39;00m \u001b[39menumerate\u001b[39m(val1_dl):\n\u001b[1;32m      3\u001b[0m         images \u001b[39m=\u001b[39m images\u001b[39m.\u001b[39mto(device)\n\u001b[1;32m      4\u001b[0m         labels \u001b[39m=\u001b[39m labels\u001b[39m.\u001b[39mto(device)\n",
      "\u001b[0;31mNameError\u001b[0m: name 'val1_dl' is not defined"
     ]
    }
   ],
   "source": [
    "with torch.no_grad():\n",
    "    for idx, (images, labels) in enumerate(val1_dl):\n",
    "        images = images.to(device)\n",
    "        labels = labels.to(device)\n",
    "        image = images[0,:,:,:]\n",
    "        mask = labels[0,:,:,:]\n",
    "        print(mask.size())\n",
    "        output = model(images)\n",
    "        output = output.reshape(36, 64)\n",
    "        plt.subplot(6,3,(idx*3)+1)\n",
    "        model_output = torch.Tensor.cpu(F.sigmoid(output))\n",
    "        model_output[model_output>.5] = 1\n",
    "        model_output[model_output<=.5] = 0\n",
    "        plt.imshow(model_output, vmin=0, vmax=1)\n",
    "        plt.colorbar()\n",
    "        plt.title(idx)\n",
    "        plt.subplot(6,3,(3*idx)+2)\n",
    "        plt.imshow(torch.Tensor.cpu(image).permute(1, 2, 0))\n",
    "        plt.title(idx)\n",
    "        plt.subplot(6,3,(3*idx)+3)\n",
    "        plt.imshow(torch.Tensor.cpu(mask))\n",
    "        plt.colorbar()\n",
    "        plt.title(idx)\n",
    "        print(output.size())\n",
    "        if idx == 5:\n",
    "            break"
   ]
  },
  {
   "cell_type": "code",
   "execution_count": null,
   "metadata": {},
   "outputs": [],
   "source": [
    "torch.save(model.state_dict(), model_path + 'model_1.pth')"
   ]
  }
 ],
 "metadata": {
  "kernelspec": {
   "display_name": "Python 3 (ipykernel)",
   "language": "python",
   "name": "python3"
  },
  "language_info": {
   "codemirror_mode": {
    "name": "ipython",
    "version": 3
   },
   "file_extension": ".py",
   "mimetype": "text/x-python",
   "name": "python",
   "nbconvert_exporter": "python",
   "pygments_lexer": "ipython3",
   "version": "3.10.8"
  },
  "vscode": {
   "interpreter": {
    "hash": "a52c6a864e3399e11fea0a5eb33cc6d93f8610622dd547f9c8816dcacd7da79c"
   }
  }
 },
 "nbformat": 4,
 "nbformat_minor": 2
}
