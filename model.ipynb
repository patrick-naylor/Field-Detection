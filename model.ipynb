{
 "cells": [
  {
   "cell_type": "code",
   "execution_count": 12,
   "metadata": {},
   "outputs": [],
   "source": [
    "import torch\n",
    "import torchvision\n",
    "import torchvision.transforms as transforms\n",
    "import glob\n",
    "import numpy as np\n",
    "import cv2\n",
    "import matplotlib.pyplot as plt\n",
    "from torch.utils.data import DataLoader, Dataset\n",
    "from torchvision.utils import make_grid\n",
    "import torch.optim as optim\n",
    "import torch.nn as nn\n",
    "import torch.nn.functional as F\n",
    "image_path = '/Users/patricknaylor/Desktop/Field_Detection/Images/Masked/'\n",
    "torch.__version__\n",
    "device = torch.device('mps')\n",
    "\n"
   ]
  },
  {
   "cell_type": "code",
   "execution_count": 13,
   "metadata": {},
   "outputs": [],
   "source": [
    "\n",
    "images_paths = glob.glob(image_path + '*.jpg')\n",
    "mask_paths = glob.glob(image_path + '*.npy')\n",
    "scale_percent = 20\n",
    "\n",
    "images = []\n",
    "masks = []\n",
    "for (img, msk) in zip(images_paths, mask_paths):\n",
    "    image = cv2.cvtColor(cv2.imread(img), cv2.COLOR_BGR2RGB)\n",
    "    width = int(image.shape[1] * scale_percent / 100)\n",
    "    height = int(image.shape[0] * scale_percent / 100)\n",
    "    images.append(cv2.resize(image, (width, height), interpolation = cv2.INTER_AREA))\n",
    "    mask = np.load(msk).T\n",
    "    mask = np.expand_dims(mask[25: -25, 25: -25], axis=2)\n",
    "    mask = np.resize(mask, (72, 128, 1))\n",
    "    masks.append(mask)\n"
   ]
  },
  {
   "cell_type": "code",
   "execution_count": 14,
   "metadata": {},
   "outputs": [],
   "source": [
    "images_arr = np.stack(images)\n",
    "masks_arr = np.stack(masks)\n"
   ]
  },
  {
   "cell_type": "code",
   "execution_count": 15,
   "metadata": {},
   "outputs": [],
   "source": [
    "images_arr = images_arr.astype(np.uint8)\n",
    "masks_arr = masks_arr.astype(np.uint8)"
   ]
  },
  {
   "cell_type": "code",
   "execution_count": 16,
   "metadata": {},
   "outputs": [],
   "source": [
    "class imageDataset(Dataset):\n",
    "    def __init__(self, X, y):\n",
    "        self.X = X\n",
    "        self.y = y\n",
    "\n",
    "    def __len__(self):\n",
    "        return len(self.X)\n",
    "\n",
    "    def __getitem__(self, index):\n",
    "        image = self.X[index]\n",
    "        mask = self.y[index]\n",
    "        y = torch.tensor(mask)\n",
    "        X = self.transform(image)\n",
    "        return [X, y]\n",
    "\n",
    "    transform = transforms.Compose([\n",
    "    transforms.ToPILImage(),\n",
    "    transforms.ToTensor()])\n",
    "\n",
    "    \n",
    "\n",
    "\n",
    "    "
   ]
  },
  {
   "cell_type": "code",
   "execution_count": 17,
   "metadata": {},
   "outputs": [
    {
     "name": "stdout",
     "output_type": "stream",
     "text": [
      "(2753, 72, 128, 1)\n"
     ]
    }
   ],
   "source": [
    "print(np.shape(masks_arr))"
   ]
  },
  {
   "cell_type": "code",
   "execution_count": 18,
   "metadata": {},
   "outputs": [],
   "source": [
    "batch_size = 8\n",
    "transformed_dataset = imageDataset(X=images_arr, y=masks_arr)\n",
    "train_set, val_set = torch.utils.data.random_split(transformed_dataset, [2000, 753])\n",
    "train_dl = DataLoader(train_set, batch_size, shuffle=True)\n",
    "val_dl = DataLoader(val_set, batch_size, shuffle=True)\n"
   ]
  },
  {
   "cell_type": "code",
   "execution_count": null,
   "metadata": {},
   "outputs": [],
   "source": []
  },
  {
   "cell_type": "code",
   "execution_count": 19,
   "metadata": {},
   "outputs": [],
   "source": [
    "class Model(nn.Module):\n",
    "    def __init__(self):\n",
    "        super(Model, self).__init__()\n",
    "        self.conv1 = nn.Conv2d(3, 6, 5, padding='same')\n",
    "        self.pool = nn.MaxPool2d(2, 2)\n",
    "        self.fc1 = nn.Linear(int(6*144*256*.25), int(2*144*256*.25))\n",
    "        self.fc2 = nn.Linear(int(2*144*256*.25), int(144*256*.25))\n",
    "    \n",
    "    def forward(self, x):\n",
    "        x = self.pool(F.relu(self.conv1(x)))\n",
    "        x = torch.flatten(x, 1)\n",
    "        x = F.relu(self.fc1(x))\n",
    "        x = F.sigmoid(self.fc2(x))\n",
    "        return x\n"
   ]
  },
  {
   "cell_type": "code",
   "execution_count": 20,
   "metadata": {},
   "outputs": [],
   "source": [
    "def cross_entropy(output, target):\n",
    "    target = torch.flatten(target, 1)\n",
    "    loss = -np.sum(target*np.log(output))\n",
    "    return loss/float(output.shape[0])\n",
    "\n",
    "model = Model().to(device)\n",
    "criterion = nn.BCEWithLogitsLoss()\n",
    "optimizer = optim.SGD(model.parameters(), lr=0.001, momentum=0.9)"
   ]
  },
  {
   "cell_type": "code",
   "execution_count": 21,
   "metadata": {},
   "outputs": [
    {
     "name": "stdout",
     "output_type": "stream",
     "text": [
      "torch.Size([8, 9216])\n",
      "torch.Size([8, 9216])\n",
      "torch.Size([8, 9216])\n",
      "torch.Size([8, 9216])\n",
      "torch.Size([8, 9216])\n",
      "torch.Size([8, 9216])\n",
      "torch.Size([8, 9216])\n",
      "torch.Size([8, 9216])\n",
      "torch.Size([8, 9216])\n",
      "torch.Size([8, 9216])\n",
      "torch.Size([8, 9216])\n",
      "torch.Size([8, 9216])\n",
      "torch.Size([8, 9216])\n",
      "torch.Size([8, 9216])\n",
      "torch.Size([8, 9216])\n",
      "torch.Size([8, 9216])\n",
      "torch.Size([8, 9216])\n",
      "torch.Size([8, 9216])\n",
      "torch.Size([8, 9216])\n",
      "torch.Size([8, 9216])\n",
      "torch.Size([8, 9216])\n",
      "torch.Size([8, 9216])\n",
      "torch.Size([8, 9216])\n",
      "torch.Size([8, 9216])\n",
      "torch.Size([8, 9216])\n",
      "torch.Size([8, 9216])\n",
      "torch.Size([8, 9216])\n",
      "torch.Size([8, 9216])\n",
      "torch.Size([8, 9216])\n",
      "torch.Size([8, 9216])\n",
      "torch.Size([8, 9216])\n",
      "torch.Size([8, 9216])\n",
      "torch.Size([8, 9216])\n",
      "torch.Size([8, 9216])\n",
      "torch.Size([8, 9216])\n",
      "torch.Size([8, 9216])\n",
      "torch.Size([8, 9216])\n",
      "torch.Size([8, 9216])\n",
      "torch.Size([8, 9216])\n",
      "torch.Size([8, 9216])\n",
      "torch.Size([8, 9216])\n",
      "torch.Size([8, 9216])\n",
      "torch.Size([8, 9216])\n",
      "torch.Size([8, 9216])\n",
      "torch.Size([8, 9216])\n",
      "torch.Size([8, 9216])\n",
      "torch.Size([8, 9216])\n",
      "torch.Size([8, 9216])\n",
      "torch.Size([8, 9216])\n",
      "torch.Size([8, 9216])\n",
      "torch.Size([8, 9216])\n",
      "torch.Size([8, 9216])\n",
      "torch.Size([8, 9216])\n",
      "torch.Size([8, 9216])\n",
      "torch.Size([8, 9216])\n",
      "torch.Size([8, 9216])\n",
      "torch.Size([8, 9216])\n",
      "torch.Size([8, 9216])\n",
      "torch.Size([8, 9216])\n",
      "torch.Size([8, 9216])\n",
      "torch.Size([8, 9216])\n",
      "torch.Size([8, 9216])\n",
      "torch.Size([8, 9216])\n",
      "torch.Size([8, 9216])\n",
      "torch.Size([8, 9216])\n",
      "torch.Size([8, 9216])\n",
      "torch.Size([8, 9216])\n",
      "torch.Size([8, 9216])\n",
      "torch.Size([8, 9216])\n",
      "torch.Size([8, 9216])\n",
      "torch.Size([8, 9216])\n",
      "torch.Size([8, 9216])\n",
      "torch.Size([8, 9216])\n",
      "torch.Size([8, 9216])\n",
      "torch.Size([8, 9216])\n",
      "torch.Size([8, 9216])\n",
      "torch.Size([8, 9216])\n",
      "torch.Size([8, 9216])\n",
      "torch.Size([8, 9216])\n",
      "torch.Size([8, 9216])\n",
      "torch.Size([8, 9216])\n",
      "torch.Size([8, 9216])\n",
      "torch.Size([8, 9216])\n",
      "torch.Size([8, 9216])\n",
      "torch.Size([8, 9216])\n",
      "torch.Size([8, 9216])\n",
      "torch.Size([8, 9216])\n",
      "torch.Size([8, 9216])\n",
      "torch.Size([8, 9216])\n",
      "torch.Size([8, 9216])\n",
      "torch.Size([8, 9216])\n",
      "torch.Size([8, 9216])\n",
      "torch.Size([8, 9216])\n",
      "torch.Size([8, 9216])\n",
      "torch.Size([8, 9216])\n",
      "torch.Size([8, 9216])\n",
      "torch.Size([8, 9216])\n",
      "torch.Size([8, 9216])\n",
      "torch.Size([8, 9216])\n",
      "torch.Size([8, 9216])\n"
     ]
    },
    {
     "ename": "KeyboardInterrupt",
     "evalue": "",
     "output_type": "error",
     "traceback": [
      "\u001b[0;31m---------------------------------------------------------------------------\u001b[0m",
      "\u001b[0;31mKeyboardInterrupt\u001b[0m                         Traceback (most recent call last)",
      "Cell \u001b[0;32mIn [21], line 16\u001b[0m\n\u001b[1;32m     14\u001b[0m optimizer\u001b[39m.\u001b[39mzero_grad()\n\u001b[1;32m     15\u001b[0m loss\u001b[39m.\u001b[39mbackward()\n\u001b[0;32m---> 16\u001b[0m optimizer\u001b[39m.\u001b[39;49mstep()\n\u001b[1;32m     18\u001b[0m running_loss \u001b[39m+\u001b[39m\u001b[39m=\u001b[39m loss\u001b[39m.\u001b[39mitem()\n\u001b[1;32m     19\u001b[0m \u001b[39mif\u001b[39;00m i \u001b[39m%\u001b[39m \u001b[39m5\u001b[39m \u001b[39m==\u001b[39m \u001b[39m499\u001b[39m:\n",
      "File \u001b[0;32m~/miniconda3/envs/field_detect/lib/python3.10/site-packages/torch/optim/optimizer.py:198\u001b[0m, in \u001b[0;36mOptimizer.profile_hook_step.<locals>.wrapper\u001b[0;34m(*args, **kwargs)\u001b[0m\n\u001b[1;32m    194\u001b[0m         \u001b[39melse\u001b[39;00m:\n\u001b[1;32m    195\u001b[0m             \u001b[39mraise\u001b[39;00m \u001b[39mRuntimeError\u001b[39;00m(\u001b[39mf\u001b[39m\u001b[39m\"\u001b[39m\u001b[39m{\u001b[39;00mfunc\u001b[39m}\u001b[39;00m\u001b[39m must return None or a tuple of (new_args, new_kwargs),\u001b[39m\u001b[39m\"\u001b[39m\n\u001b[1;32m    196\u001b[0m                                \u001b[39mf\u001b[39m\u001b[39m\"\u001b[39m\u001b[39mbut got \u001b[39m\u001b[39m{\u001b[39;00mresult\u001b[39m}\u001b[39;00m\u001b[39m.\u001b[39m\u001b[39m\"\u001b[39m)\n\u001b[0;32m--> 198\u001b[0m out \u001b[39m=\u001b[39m func(\u001b[39m*\u001b[39;49margs, \u001b[39m*\u001b[39;49m\u001b[39m*\u001b[39;49mkwargs)\n\u001b[1;32m    199\u001b[0m \u001b[39mself\u001b[39m\u001b[39m.\u001b[39m_optimizer_step_code()\n\u001b[1;32m    201\u001b[0m \u001b[39m# call optimizer step post hooks\u001b[39;00m\n",
      "File \u001b[0;32m~/miniconda3/envs/field_detect/lib/python3.10/site-packages/torch/optim/optimizer.py:29\u001b[0m, in \u001b[0;36m_use_grad_for_differentiable.<locals>._use_grad\u001b[0;34m(self, *args, **kwargs)\u001b[0m\n\u001b[1;32m     27\u001b[0m \u001b[39mtry\u001b[39;00m:\n\u001b[1;32m     28\u001b[0m     torch\u001b[39m.\u001b[39mset_grad_enabled(\u001b[39mself\u001b[39m\u001b[39m.\u001b[39mdefaults[\u001b[39m'\u001b[39m\u001b[39mdifferentiable\u001b[39m\u001b[39m'\u001b[39m])\n\u001b[0;32m---> 29\u001b[0m     ret \u001b[39m=\u001b[39m func(\u001b[39mself\u001b[39;49m, \u001b[39m*\u001b[39;49margs, \u001b[39m*\u001b[39;49m\u001b[39m*\u001b[39;49mkwargs)\n\u001b[1;32m     30\u001b[0m \u001b[39mfinally\u001b[39;00m:\n\u001b[1;32m     31\u001b[0m     torch\u001b[39m.\u001b[39mset_grad_enabled(prev_grad)\n",
      "File \u001b[0;32m~/miniconda3/envs/field_detect/lib/python3.10/site-packages/torch/optim/sgd.py:151\u001b[0m, in \u001b[0;36mSGD.step\u001b[0;34m(self, closure)\u001b[0m\n\u001b[1;32m    148\u001b[0m         \u001b[39melse\u001b[39;00m:\n\u001b[1;32m    149\u001b[0m             momentum_buffer_list\u001b[39m.\u001b[39mappend(state[\u001b[39m'\u001b[39m\u001b[39mmomentum_buffer\u001b[39m\u001b[39m'\u001b[39m])\n\u001b[0;32m--> 151\u001b[0m sgd(params_with_grad,\n\u001b[1;32m    152\u001b[0m     d_p_list,\n\u001b[1;32m    153\u001b[0m     momentum_buffer_list,\n\u001b[1;32m    154\u001b[0m     weight_decay\u001b[39m=\u001b[39;49mgroup[\u001b[39m'\u001b[39;49m\u001b[39mweight_decay\u001b[39;49m\u001b[39m'\u001b[39;49m],\n\u001b[1;32m    155\u001b[0m     momentum\u001b[39m=\u001b[39;49mgroup[\u001b[39m'\u001b[39;49m\u001b[39mmomentum\u001b[39;49m\u001b[39m'\u001b[39;49m],\n\u001b[1;32m    156\u001b[0m     lr\u001b[39m=\u001b[39;49mgroup[\u001b[39m'\u001b[39;49m\u001b[39mlr\u001b[39;49m\u001b[39m'\u001b[39;49m],\n\u001b[1;32m    157\u001b[0m     dampening\u001b[39m=\u001b[39;49mgroup[\u001b[39m'\u001b[39;49m\u001b[39mdampening\u001b[39;49m\u001b[39m'\u001b[39;49m],\n\u001b[1;32m    158\u001b[0m     nesterov\u001b[39m=\u001b[39;49mgroup[\u001b[39m'\u001b[39;49m\u001b[39mnesterov\u001b[39;49m\u001b[39m'\u001b[39;49m],\n\u001b[1;32m    159\u001b[0m     maximize\u001b[39m=\u001b[39;49mgroup[\u001b[39m'\u001b[39;49m\u001b[39mmaximize\u001b[39;49m\u001b[39m'\u001b[39;49m],\n\u001b[1;32m    160\u001b[0m     has_sparse_grad\u001b[39m=\u001b[39;49mhas_sparse_grad,\n\u001b[1;32m    161\u001b[0m     foreach\u001b[39m=\u001b[39;49mgroup[\u001b[39m'\u001b[39;49m\u001b[39mforeach\u001b[39;49m\u001b[39m'\u001b[39;49m])\n\u001b[1;32m    163\u001b[0m \u001b[39m# update momentum_buffers in state\u001b[39;00m\n\u001b[1;32m    164\u001b[0m \u001b[39mfor\u001b[39;00m p, momentum_buffer \u001b[39min\u001b[39;00m \u001b[39mzip\u001b[39m(params_with_grad, momentum_buffer_list):\n",
      "File \u001b[0;32m~/miniconda3/envs/field_detect/lib/python3.10/site-packages/torch/optim/sgd.py:202\u001b[0m, in \u001b[0;36msgd\u001b[0;34m(params, d_p_list, momentum_buffer_list, has_sparse_grad, foreach, weight_decay, momentum, lr, dampening, nesterov, maximize)\u001b[0m\n\u001b[1;32m    199\u001b[0m \u001b[39melse\u001b[39;00m:\n\u001b[1;32m    200\u001b[0m     func \u001b[39m=\u001b[39m _single_tensor_sgd\n\u001b[0;32m--> 202\u001b[0m func(params,\n\u001b[1;32m    203\u001b[0m      d_p_list,\n\u001b[1;32m    204\u001b[0m      momentum_buffer_list,\n\u001b[1;32m    205\u001b[0m      weight_decay\u001b[39m=\u001b[39;49mweight_decay,\n\u001b[1;32m    206\u001b[0m      momentum\u001b[39m=\u001b[39;49mmomentum,\n\u001b[1;32m    207\u001b[0m      lr\u001b[39m=\u001b[39;49mlr,\n\u001b[1;32m    208\u001b[0m      dampening\u001b[39m=\u001b[39;49mdampening,\n\u001b[1;32m    209\u001b[0m      nesterov\u001b[39m=\u001b[39;49mnesterov,\n\u001b[1;32m    210\u001b[0m      has_sparse_grad\u001b[39m=\u001b[39;49mhas_sparse_grad,\n\u001b[1;32m    211\u001b[0m      maximize\u001b[39m=\u001b[39;49mmaximize)\n",
      "File \u001b[0;32m~/miniconda3/envs/field_detect/lib/python3.10/site-packages/torch/optim/sgd.py:245\u001b[0m, in \u001b[0;36m_single_tensor_sgd\u001b[0;34m(params, d_p_list, momentum_buffer_list, weight_decay, momentum, lr, dampening, nesterov, maximize, has_sparse_grad)\u001b[0m\n\u001b[1;32m    242\u001b[0m     \u001b[39melse\u001b[39;00m:\n\u001b[1;32m    243\u001b[0m         d_p \u001b[39m=\u001b[39m buf\n\u001b[0;32m--> 245\u001b[0m param\u001b[39m.\u001b[39;49madd_(d_p, alpha\u001b[39m=\u001b[39;49m\u001b[39m-\u001b[39;49mlr)\n",
      "\u001b[0;31mKeyboardInterrupt\u001b[0m: "
     ]
    }
   ],
   "source": [
    "num_epochs = 32\n",
    "for epoch in range(num_epochs):\n",
    "    running_loss = 0.0\n",
    "    for i, (input, target) in enumerate(train_dl):\n",
    "        input = input.to(device)\n",
    "        target = torch.flatten(target, 1).to(device)\n",
    "\n",
    "        optimizer.zero_grad()\n",
    "\n",
    "        outputs = model(input)\n",
    "        print(outputs.size())\n",
    "        loss = criterion(outputs, target.float())\n",
    "\n",
    "        optimizer.zero_grad()\n",
    "        loss.backward()\n",
    "        optimizer.step()\n",
    "\n",
    "        running_loss += loss.item()\n",
    "        if i % 5 == 499:\n",
    "            print(f'[{epoch + 1}, {i + 1:5d}] loss: {running_loss / 2000:.3f}')\n",
    "            running_loss = 0.0\n"
   ]
  },
  {
   "cell_type": "code",
   "execution_count": null,
   "metadata": {},
   "outputs": [],
   "source": []
  }
 ],
 "metadata": {
  "kernelspec": {
   "display_name": "Python 3 (ipykernel)",
   "language": "python",
   "name": "python3"
  },
  "language_info": {
   "codemirror_mode": {
    "name": "ipython",
    "version": 3
   },
   "file_extension": ".py",
   "mimetype": "text/x-python",
   "name": "python",
   "nbconvert_exporter": "python",
   "pygments_lexer": "ipython3",
   "version": "3.10.8"
  },
  "vscode": {
   "interpreter": {
    "hash": "a52c6a864e3399e11fea0a5eb33cc6d93f8610622dd547f9c8816dcacd7da79c"
   }
  }
 },
 "nbformat": 4,
 "nbformat_minor": 2
}
