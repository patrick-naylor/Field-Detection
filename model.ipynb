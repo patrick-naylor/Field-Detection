{
 "cells": [
  {
   "cell_type": "code",
   "execution_count": 60,
   "metadata": {},
   "outputs": [],
   "source": [
    "import torch\n",
    "import torchvision\n",
    "import torchvision.transforms as transforms\n",
    "import glob\n",
    "import numpy as np\n",
    "import cv2\n",
    "import matplotlib.pyplot as plt\n",
    "from torch.utils.data import DataLoader, Dataset\n",
    "from torchvision.utils import make_grid\n",
    "import torch.optim as optim\n",
    "import torch.nn as nn\n",
    "import torch.nn.functional as F\n",
    "image_path = '/Users/patricknaylor/Desktop/Field_Detection/Images/Masked/'\n",
    "torch.__version__\n",
    "device = torch.device('mps')\n"
   ]
  },
  {
   "cell_type": "code",
   "execution_count": 61,
   "metadata": {},
   "outputs": [],
   "source": [
    "\n",
    "images_paths = glob.glob(image_path + '*.jpg')\n",
    "mask_paths = glob.glob(image_path + '*.npy')\n",
    "scale_percent = 20\n",
    "\n",
    "images = []\n",
    "masks = []\n",
    "for (img, msk) in zip(images_paths, mask_paths):\n",
    "    image = cv2.cvtColor(cv2.imread(img), cv2.COLOR_BGR2RGB)\n",
    "    width = int(image.shape[1] * scale_percent / 100)\n",
    "    height = int(image.shape[0] * scale_percent / 100)\n",
    "    images.append(cv2.resize(image, (width, height), interpolation = cv2.INTER_AREA))\n",
    "    mask = np.load(msk).T\n",
    "    mask = np.expand_dims(mask[25: -25, 25: -25], axis=2)\n",
    "    mask = np.resize(mask, (36, 64, 1))\n",
    "    masks.append(mask)\n"
   ]
  },
  {
   "cell_type": "code",
   "execution_count": 62,
   "metadata": {},
   "outputs": [],
   "source": [
    "images_arr = np.stack(images)\n",
    "masks_arr = np.stack(masks)\n"
   ]
  },
  {
   "cell_type": "code",
   "execution_count": 63,
   "metadata": {},
   "outputs": [],
   "source": [
    "images_arr = images_arr.astype(np.uint8)\n",
    "masks_arr = masks_arr.astype(np.uint8)"
   ]
  },
  {
   "cell_type": "code",
   "execution_count": 64,
   "metadata": {},
   "outputs": [],
   "source": [
    "class imageDataset(Dataset):\n",
    "    def __init__(self, X, y):\n",
    "        self.X = X\n",
    "        self.y = y\n",
    "\n",
    "    def __len__(self):\n",
    "        return len(self.X)\n",
    "\n",
    "    def __getitem__(self, index):\n",
    "        image = self.X[index]\n",
    "        mask = self.y[index]\n",
    "        y = torch.tensor(mask)\n",
    "        X = self.transform(image)\n",
    "        return [X, y]\n",
    "\n",
    "    transform = transforms.Compose([\n",
    "    transforms.ToPILImage(),\n",
    "    transforms.ToTensor()])\n",
    "\n",
    "    \n",
    "\n",
    "\n",
    "    "
   ]
  },
  {
   "cell_type": "code",
   "execution_count": 65,
   "metadata": {},
   "outputs": [
    {
     "name": "stdout",
     "output_type": "stream",
     "text": [
      "(2753, 36, 64, 1)\n"
     ]
    }
   ],
   "source": [
    "print(np.shape(masks_arr))"
   ]
  },
  {
   "cell_type": "code",
   "execution_count": 66,
   "metadata": {},
   "outputs": [],
   "source": [
    "batch_size = 8\n",
    "transformed_dataset = imageDataset(X=images_arr, y=masks_arr)\n",
    "train_set, val_set = torch.utils.data.random_split(transformed_dataset, [2000, 753])\n",
    "train_dl = DataLoader(train_set, batch_size, shuffle=True)\n",
    "val_dl = DataLoader(val_set, batch_size, shuffle=True)\n"
   ]
  },
  {
   "cell_type": "code",
   "execution_count": null,
   "metadata": {},
   "outputs": [],
   "source": []
  },
  {
   "cell_type": "code",
   "execution_count": 67,
   "metadata": {},
   "outputs": [],
   "source": [
    "class Model(nn.Module):\n",
    "    def __init__(self):\n",
    "        super(Model, self).__init__()\n",
    "        self.conv1 = nn.Conv2d(3, 6, 5, padding='same')\n",
    "        self.pool = nn.MaxPool2d(2, 2)\n",
    "        self.fc1 = nn.Linear(int(6*144*256*.25), int(2*144*256*.25))\n",
    "        self.fc2 = nn.Linear(int(2*144*256*.25), int(144*256*.25))\n",
    "    \n",
    "    def forward(self, x):\n",
    "        x = self.pool(F.relu(self.conv1(x)))\n",
    "        x = torch.flatten(x, 1)\n",
    "        x = F.relu(self.fc1(x))\n",
    "        x = F.sigmoid(self.fc2(x))\n",
    "        return x\n"
   ]
  },
  {
   "cell_type": "code",
   "execution_count": 68,
   "metadata": {},
   "outputs": [],
   "source": [
    "def cross_entropy(output, target):\n",
    "    target = torch.flatten(target, 1)\n",
    "    loss = -np.sum(target*np.log(output))\n",
    "    return loss/float(output.shape[0])\n",
    "\n",
    "model = Model()\n",
    "optimizer = optim.SGD(model.parameters(), lr=0.001, momentum=0.9)"
   ]
  },
  {
   "cell_type": "code",
   "execution_count": 69,
   "metadata": {},
   "outputs": [
    {
     "ename": "RuntimeError",
     "evalue": "Can't call numpy() on Tensor that requires grad. Use tensor.detach().numpy() instead.",
     "output_type": "error",
     "traceback": [
      "\u001b[0;31m---------------------------------------------------------------------------\u001b[0m",
      "\u001b[0;31mRuntimeError\u001b[0m                              Traceback (most recent call last)",
      "Cell \u001b[0;32mIn [69], line 8\u001b[0m\n\u001b[1;32m      5\u001b[0m optimizer\u001b[39m.\u001b[39mzero_grad()\n\u001b[1;32m      7\u001b[0m outputs \u001b[39m=\u001b[39m model(\u001b[39minput\u001b[39m)\n\u001b[0;32m----> 8\u001b[0m loss \u001b[39m=\u001b[39m cross_entropy(outputs, target)\n\u001b[1;32m     10\u001b[0m optimizer\u001b[39m.\u001b[39mzero_grad()\n\u001b[1;32m     11\u001b[0m loss\u001b[39m.\u001b[39mbackward()\n",
      "Cell \u001b[0;32mIn [68], line 3\u001b[0m, in \u001b[0;36mcross_entropy\u001b[0;34m(output, target)\u001b[0m\n\u001b[1;32m      1\u001b[0m \u001b[39mdef\u001b[39;00m \u001b[39mcross_entropy\u001b[39m(output, target):\n\u001b[1;32m      2\u001b[0m     target \u001b[39m=\u001b[39m torch\u001b[39m.\u001b[39mflatten(target, \u001b[39m1\u001b[39m)\n\u001b[0;32m----> 3\u001b[0m     loss \u001b[39m=\u001b[39m \u001b[39m-\u001b[39mnp\u001b[39m.\u001b[39msum(target\u001b[39m*\u001b[39mnp\u001b[39m.\u001b[39;49mlog(output))\n\u001b[1;32m      4\u001b[0m     \u001b[39mreturn\u001b[39;00m loss\u001b[39m/\u001b[39m\u001b[39mfloat\u001b[39m(output\u001b[39m.\u001b[39mshape[\u001b[39m0\u001b[39m])\n",
      "File \u001b[0;32m~/miniconda3/envs/field_detect/lib/python3.10/site-packages/torch/_tensor.py:958\u001b[0m, in \u001b[0;36mTensor.__array__\u001b[0;34m(self, dtype)\u001b[0m\n\u001b[1;32m    956\u001b[0m     \u001b[39mreturn\u001b[39;00m handle_torch_function(Tensor\u001b[39m.\u001b[39m__array__, (\u001b[39mself\u001b[39m,), \u001b[39mself\u001b[39m, dtype\u001b[39m=\u001b[39mdtype)\n\u001b[1;32m    957\u001b[0m \u001b[39mif\u001b[39;00m dtype \u001b[39mis\u001b[39;00m \u001b[39mNone\u001b[39;00m:\n\u001b[0;32m--> 958\u001b[0m     \u001b[39mreturn\u001b[39;00m \u001b[39mself\u001b[39;49m\u001b[39m.\u001b[39;49mnumpy()\n\u001b[1;32m    959\u001b[0m \u001b[39melse\u001b[39;00m:\n\u001b[1;32m    960\u001b[0m     \u001b[39mreturn\u001b[39;00m \u001b[39mself\u001b[39m\u001b[39m.\u001b[39mnumpy()\u001b[39m.\u001b[39mastype(dtype, copy\u001b[39m=\u001b[39m\u001b[39mFalse\u001b[39;00m)\n",
      "\u001b[0;31mRuntimeError\u001b[0m: Can't call numpy() on Tensor that requires grad. Use tensor.detach().numpy() instead."
     ]
    }
   ],
   "source": [
    "num_epochs = 32\n",
    "for epoch in range(num_epochs):\n",
    "    running_loss = 0.0\n",
    "    for i, (input, target) in enumerate(train_dl):\n",
    "        optimizer.zero_grad()\n",
    "\n",
    "        outputs = model(input)\n",
    "        loss = cross_entropy(outputs, target)\n",
    "\n",
    "        optimizer.zero_grad()\n",
    "        loss.backward()\n",
    "        optimizer.step()\n",
    "\n",
    "        running_loss += loss.item()\n",
    "        if i % 5 == 499:\n",
    "            print(f'[{epoch + 1}, {i + 1:5d}] loss: {running_loss / 2000:.3f}')\n",
    "            running_loss = 0.0\n"
   ]
  },
  {
   "cell_type": "code",
   "execution_count": null,
   "metadata": {},
   "outputs": [],
   "source": []
  }
 ],
 "metadata": {
  "kernelspec": {
   "display_name": "Python 3 (ipykernel)",
   "language": "python",
   "name": "python3"
  },
  "language_info": {
   "codemirror_mode": {
    "name": "ipython",
    "version": 3
   },
   "file_extension": ".py",
   "mimetype": "text/x-python",
   "name": "python",
   "nbconvert_exporter": "python",
   "pygments_lexer": "ipython3",
   "version": "3.10.8"
  },
  "vscode": {
   "interpreter": {
    "hash": "a52c6a864e3399e11fea0a5eb33cc6d93f8610622dd547f9c8816dcacd7da79c"
   }
  }
 },
 "nbformat": 4,
 "nbformat_minor": 2
}
