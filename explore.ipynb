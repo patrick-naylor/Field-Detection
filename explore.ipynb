{
 "cells": [
  {
   "cell_type": "code",
   "execution_count": 21,
   "metadata": {},
   "outputs": [],
   "source": [
    "import numpy as np\n",
    "import scipy \n",
    "import glob\n",
    "import cv2"
   ]
  },
  {
   "cell_type": "code",
   "execution_count": 55,
   "metadata": {},
   "outputs": [],
   "source": [
    "arr = np.ones((20, 20))\n",
    "points1 = np.array([[5, 5], [5, 10], [10, 10], [10, 5]])"
   ]
  },
  {
   "cell_type": "code",
   "execution_count": 9,
   "metadata": {},
   "outputs": [
    {
     "name": "stdout",
     "output_type": "stream",
     "text": [
      "1\n",
      "0\n",
      "3\n",
      "2\n"
     ]
    }
   ],
   "source": [
    "import matplotlib.pyplot as plt\n",
    "for simplex in hull.vertices:\n",
    "    print(simplex)"
   ]
  },
  {
   "cell_type": "code",
   "execution_count": 41,
   "metadata": {},
   "outputs": [],
   "source": [
    "raw_paths = glob.glob('/Users/patricknaylor/Desktop/Field_Detection/Images/Raw/*')\n",
    "image = cv2.imread(raw_paths[0])"
   ]
  },
  {
   "cell_type": "code",
   "execution_count": 26,
   "metadata": {},
   "outputs": [
    {
     "name": "stdout",
     "output_type": "stream",
     "text": [
      "(720, 1280, 3)\n"
     ]
    }
   ],
   "source": [
    "print(image.shape)"
   ]
  },
  {
   "cell_type": "code",
   "execution_count": 31,
   "metadata": {},
   "outputs": [],
   "source": [
    "def fill_hull(image, points):\n",
    "\n",
    "    hull = scipy.spatial.ConvexHull(points)\n",
    "    deln = scipy.spatial.Delaunay(points[hull.vertices])\n",
    "\n",
    "    # Instead of allocating a giant array for all indices in the volume,\n",
    "    # just iterate over the slices one at a time.\n",
    "    idx_2d = np.indices(image.shape[1:], np.int16)\n",
    "    idx_2d = np.moveaxis(idx_2d, 0, -1)\n",
    "\n",
    "    idx_3d = np.zeros((*image.shape[1:], image.ndim), np.int16)\n",
    "    idx_3d[:, :, 1:] = idx_2d\n",
    "    \n",
    "    mask = np.zeros_like(image, dtype=bool)\n",
    "    for z in range(len(image)):\n",
    "        idx_3d[:,:,0] = z\n",
    "        s = deln.find_simplex(idx_3d)\n",
    "        mask[z, (s != -1)] = 1\n",
    "\n",
    "    return mask"
   ]
  },
  {
   "cell_type": "code",
   "execution_count": 43,
   "metadata": {},
   "outputs": [],
   "source": [
    "def flood_fill_hull(image,points):    \n",
    "    #points = np.transpose(np.where(image))\n",
    "    hull = scipy.spatial.ConvexHull(points)\n",
    "    deln = scipy.spatial.Delaunay(points[hull.vertices]) \n",
    "    idx = np.stack(np.indices(image.shape), axis = -1)\n",
    "    out_idx = np.nonzero(deln.find_simplex(idx) + 1)\n",
    "    out_img = np.zeros(image.shape)\n",
    "    out_img[out_idx] = 1\n",
    "    return out_img, hull"
   ]
  },
  {
   "cell_type": "code",
   "execution_count": 49,
   "metadata": {},
   "outputs": [
    {
     "ename": "ValueError",
     "evalue": "wrong dimensionality in xi",
     "output_type": "error",
     "traceback": [
      "\u001b[0;31m---------------------------------------------------------------------------\u001b[0m",
      "\u001b[0;31mValueError\u001b[0m                                Traceback (most recent call last)",
      "Cell \u001b[0;32mIn [49], line 1\u001b[0m\n\u001b[0;32m----> 1\u001b[0m out, h \u001b[39m=\u001b[39m flood_fill_hull(image, points)\n\u001b[1;32m      2\u001b[0m \u001b[39mprint\u001b[39m(np\u001b[39m.\u001b[39mshape(image))\n",
      "Cell \u001b[0;32mIn [43], line 6\u001b[0m, in \u001b[0;36mflood_fill_hull\u001b[0;34m(image, points)\u001b[0m\n\u001b[1;32m      4\u001b[0m deln \u001b[39m=\u001b[39m scipy\u001b[39m.\u001b[39mspatial\u001b[39m.\u001b[39mDelaunay(points[hull\u001b[39m.\u001b[39mvertices]) \n\u001b[1;32m      5\u001b[0m idx \u001b[39m=\u001b[39m np\u001b[39m.\u001b[39mstack(np\u001b[39m.\u001b[39mindices(image\u001b[39m.\u001b[39mshape), axis \u001b[39m=\u001b[39m \u001b[39m-\u001b[39m\u001b[39m1\u001b[39m)\n\u001b[0;32m----> 6\u001b[0m out_idx \u001b[39m=\u001b[39m np\u001b[39m.\u001b[39mnonzero(deln\u001b[39m.\u001b[39;49mfind_simplex(idx) \u001b[39m+\u001b[39m \u001b[39m1\u001b[39m)\n\u001b[1;32m      7\u001b[0m out_img \u001b[39m=\u001b[39m np\u001b[39m.\u001b[39mzeros(image\u001b[39m.\u001b[39mshape)\n\u001b[1;32m      8\u001b[0m out_img[out_idx] \u001b[39m=\u001b[39m \u001b[39m1\u001b[39m\n",
      "File \u001b[0;32m_qhull.pyx:2090\u001b[0m, in \u001b[0;36mscipy.spatial._qhull.Delaunay.find_simplex\u001b[0;34m()\u001b[0m\n",
      "\u001b[0;31mValueError\u001b[0m: wrong dimensionality in xi"
     ]
    }
   ],
   "source": [
    "out, h = flood_fill_hull(image, points)\n",
    "print(np.shape(image))"
   ]
  },
  {
   "cell_type": "code",
   "execution_count": 48,
   "metadata": {},
   "outputs": [
    {
     "name": "stdout",
     "output_type": "stream",
     "text": [
      "(100, 100, 100)\n"
     ]
    }
   ],
   "source": [
    "\n",
    "print(np.shape(out))"
   ]
  },
  {
   "cell_type": "code",
   "execution_count": 73,
   "metadata": {},
   "outputs": [],
   "source": [
    "\n",
    "\n",
    "def flood_fill_hull(image, points):    \n",
    "    #points = np.transpose(np.where(image))\n",
    "    hull = scipy.spatial.ConvexHull(points)\n",
    "    deln = scipy.spatial.Delaunay(points[hull.vertices]) \n",
    "    idx = np.stack(np.indices(image.shape), axis = -1)\n",
    "    out_idx = np.nonzero(deln.find_simplex(idx) + 1)\n",
    "    out_img = np.zeros(image.shape)\n",
    "    out_img[out_idx] = 1\n",
    "    return out_img, hull"
   ]
  },
  {
   "cell_type": "code",
   "execution_count": null,
   "metadata": {},
   "outputs": [],
   "source": []
  },
  {
   "cell_type": "code",
   "execution_count": 85,
   "metadata": {},
   "outputs": [
    {
     "name": "stdout",
     "output_type": "stream",
     "text": [
      "(720, 1280)\n"
     ]
    }
   ],
   "source": [
    "points = np.array([[0, 100], [100, 50], [500, 80], [700, 10]])\n",
    "raw_paths = glob.glob('/Users/patricknaylor/Desktop/Field_Detection/Images/Raw/*')\n",
    "image = cv2.imread(raw_paths[0])\n",
    "\n",
    "\n",
    "\n",
    "out, h = flood_fill_hull(image[:, :, 0], points)\n",
    "print(np.shape(out))"
   ]
  },
  {
   "cell_type": "code",
   "execution_count": 86,
   "metadata": {},
   "outputs": [
    {
     "data": {
      "text/plain": [
       "<matplotlib.colorbar.Colorbar at 0x14b8a6cb0>"
      ]
     },
     "execution_count": 86,
     "metadata": {},
     "output_type": "execute_result"
    },
    {
     "data": {
      "image/png": "[encoded data removed]",
      "text/plain": [
       "<Figure size 640x480 with 2 Axes>"
      ]
     },
     "metadata": {},
     "output_type": "display_data"
    }
   ],
   "source": [
    "plt.imshow(out[:, :])\n",
    "plt.colorbar()"
   ]
  },
  {
   "cell_type": "code",
   "execution_count": null,
   "metadata": {},
   "outputs": [],
   "source": []
  }
 ],
 "metadata": {
  "kernelspec": {
   "display_name": "Python 3.10.8 ('field_detect')",
   "language": "python",
   "name": "python3"
  },
  "language_info": {
   "codemirror_mode": {
    "name": "ipython",
    "version": 3
   },
   "file_extension": ".py",
   "mimetype": "text/x-python",
   "name": "python",
   "nbconvert_exporter": "python",
   "pygments_lexer": "ipython3",
   "version": "3.10.8"
  },
  "orig_nbformat": 4,
  "vscode": {
   "interpreter": {
    "hash": "a52c6a864e3399e11fea0a5eb33cc6d93f8610622dd547f9c8816dcacd7da79c"
   }
  }
 },
 "nbformat": 4,
 "nbformat_minor": 2
}
